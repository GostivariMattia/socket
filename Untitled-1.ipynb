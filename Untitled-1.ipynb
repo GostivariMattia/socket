{
 "cells": [
  {
   "cell_type": "markdown",
   "metadata": {},
   "source": [
    "***introduzione alle socket in pyton***\n",
    "\n",
    "le socket sono uno strumento importante per la comunicazione tra processi su una rete,sia su internet che su una rete locale.\n",
    "In Python, le socket possono essere utilizzate sia per la comunicazione tramite il protocollo UDP (User Datagram Protocol),chè è un protocollo di trasmissione di dati senza connessione, che TCP (Trasmission Control Protocol) con connessione.\n",
    "Per creare una socket in Python,utilizziamo il metodo socket() del modulo socket. Il metodo accetta due parametri: la famiglia di indirizzi (ad esempio, socket.AF_NET per IPv4) e il tipo di socket (ad esempio, socket.SOCK_STREAM per TCP o socket.SOCK_DGRAM per UDP).\n",
    "\n",
    "***Socket UDP***\n",
    "\n",
    "Le socket UDP sono utilizzate per inviare e ricevere pacchetti di dati tra due dispositivi senza l'instaurazione di una connessione prima della trasmissione dei dati.Questo rende le socket UDP molto utili per la trasmissione di dati in tempo reale come audio e video.Inoltre , il fatto che non ci sia una connessione pre-stabilita significa che le socket UDP sono adatte per la trasmissione di dati a più destinazioni contemporanemente.\n",
    "\n",
    "In Python,il modulo socket fornisce un'interfaccia per creare e gestire le socket UDP.Le primitive principali che possono essere utilizzate con le socket UDP includono:\n",
    "\n",
    "1. **socket()** questa funzione viene utilizzata per creare una nuova socket UDP.Restituisce un oggetto socket che può essere utilizzato per inviare e ricevere dati."
   ]
  },
  {
   "cell_type": "code",
   "execution_count": null,
   "metadata": {},
   "outputs": [],
   "source": [
    "import socket\n",
    "#creazione della socket UDP\n",
    "sock = socket.socket(socket.AF_INET,socket.SOCK_DGRAM)"
   ]
  },
  {
   "cell_type": "markdown",
   "metadata": {},
   "source": [
    "2.**bind():** questa funzione viene utilizzata per associare una socket a un indirizzo e una porta specifici del server.Una volta associata,la socket sarà in grado di ricevere i dati inviati a quell'indirizzo e porta specifici. Il metodo accetta un parametro,una tupla contenete l'indirizzo IP e il numero di porta"
   ]
  },
  {
   "cell_type": "code",
   "execution_count": null,
   "metadata": {},
   "outputs": [],
   "source": [
    "#associazione della socket all'indirizzo e alla porta del server\n",
    "server_address =('127.0.0.1', 10000)\n",
    "sock.bind(server_address)"
   ]
  },
  {
   "cell_type": "markdown",
   "metadata": {},
   "source": [
    "3.**sendto():** questa funzione viene utilizzata per inviare un messaggio a un indirizzo e una porta specifici. In una Socket UDP,il messaggio inviato viene suddiviso in pacchetti e inviato tramite la rete. Non viene effettuato alcun controllo sulla ricezione del messaggio."
   ]
  },
  {
   "cell_type": "code",
   "execution_count": null,
   "metadata": {},
   "outputs": [],
   "source": [
    "#Invio di un messaggio dalla socket del client\n",
    "message=b'Hello, client'\n",
    "client_address=('localhost',10001)\n",
    "sock.sendto(message,client_address)"
   ]
  },
  {
   "cell_type": "markdown",
   "metadata": {},
   "source": [
    "4 **recvfrom():** questa funzione viene utilizzata per ricevere un messaggio inviato a una socket specifica.Essa restituisce il messaggio ricevuto e l'indirizzo e la porta del mittente del messaggio"
   ]
  },
  {
   "cell_type": "code",
   "execution_count": null,
   "metadata": {},
   "outputs": [],
   "source": [
    "#ricezione di un messaggio dalla socket del client\n",
    "data, address = sock.recvfrom(4096)"
   ]
  },
  {
   "cell_type": "markdown",
   "metadata": {},
   "source": [
    "Esempio completo di un server e un client che comunicano tramite socket UDP in Python nb:il codice va eseguito in locale"
   ]
  },
  {
   "cell_type": "code",
   "execution_count": null,
   "metadata": {},
   "outputs": [
    {
     "ename": "",
     "evalue": "",
     "output_type": "error",
     "traceback": [
      "\u001b[1;31mFailed to start the Kernel. \n",
      "\u001b[1;31mAttributeError: partially initialized module 'socket' has no attribute 'AF_INET' (most likely due to a circular import). \n",
      "\u001b[1;31mView Jupyter <a href='command:jupyter.viewOutput'>log</a> for further details."
     ]
    }
   ],
   "source": [
    "import socket\n",
    "\n",
    "SERVER_IP=\"127.0.0.1\"\n",
    "SERVER_PORT=5005\n",
    "BUFFER_SIZE=1024\n",
    "\n",
    "#creazione della socket\n",
    "sock = socket.socket(socket.AF_INET,socket.SOCK_DGRAM)\n",
    "sock.bind((SERVER_IP, SERVER_PORT))\n",
    "\n",
    "print(\"server in attesa di messaggi\")\n",
    "\n",
    "while True:\n",
    "    #ricezioni dei dati dal client\n",
    "    data, addr =sock.recvfrom(BUFFER_SIZE)\n",
    "    print(f\"Messaggio ricevuto dal client {addr}: {data.decode()}\")\n",
    "\n",
    "    #invio di una risposta al cliet\n",
    "    reply = \"pong\"\n",
    "    sock.sendto(reply.encode(), addr)"
   ]
  },
  {
   "cell_type": "code",
   "execution_count": null,
   "metadata": {},
   "outputs": [],
   "source": [
    "import socket \n",
    "\n",
    "SERVER_IP= \"127.0.01\"\n",
    "SERVER_PORT = 5005\n",
    "BUFFER_SIZE =1024\n",
    "NUM_MESSAGES = 5\n",
    "\n",
    "#creazione del socket\n",
    "sock = socket.socket(socket.AF_INET,socket.SOCK_DGRAM)\n",
    "\n",
    "for i in range(NUM_MESSAGES):\n",
    "    #invio del messaggio al server\n",
    "    message =\"ping\"\n",
    "    sock.sendto(message.encode(),(SERVER_IP,SERVER_PORT))\n",
    "    print(f\"Messaggio inviato al server: {message}\")\n",
    "\n",
    "    #ricezione della risposta dal server\n",
    "    data, addr=sock.recvfrom(BUFFER_SIZE)\n",
    "    print(f\"Messaggio ricevuto dal server {addr}: {data.decode()}\")\n",
    "     \n",
    "#chiusura del socket\n",
    "sock.close()"
   ]
  }
 ],
 "metadata": {
  "kernelspec": {
   "display_name": "Python 3",
   "language": "python",
   "name": "python3"
  },
  "language_info": {
   "name": "python",
   "version": "3.11.7"
  }
 },
 "nbformat": 4,
 "nbformat_minor": 2
}
